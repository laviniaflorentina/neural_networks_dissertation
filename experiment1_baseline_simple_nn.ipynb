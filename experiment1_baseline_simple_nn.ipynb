{
  "nbformat": 4,
  "nbformat_minor": 0,
  "metadata": {
    "colab": {
      "name": "experiment1_baseline_simple_nn",
      "version": "0.3.2",
      "provenance": [],
      "collapsed_sections": [],
      "include_colab_link": true
    },
    "kernelspec": {
      "name": "python3",
      "display_name": "Python 3"
    },
    "accelerator": "GPU"
  },
  "cells": [
    {
      "cell_type": "markdown",
      "metadata": {
        "id": "view-in-github",
        "colab_type": "text"
      },
      "source": [
        "<a href=\"https://colab.research.google.com/github/laviniaflorentina/neural_networks_dissertation/blob/master/experiment1_baseline_simple_nn.ipynb\" target=\"_parent\"><img src=\"https://colab.research.google.com/assets/colab-badge.svg\" alt=\"Open In Colab\"/></a>"
      ]
    },
    {
      "cell_type": "markdown",
      "metadata": {
        "id": "Uj4s3FZg7YPm",
        "colab_type": "text"
      },
      "source": [
        "### Augmentation NN\n",
        "\n",
        "https://machinelearningmastery.com/how-to-improve-deep-learning-model-robustness-by-adding-noise/\n",
        "\n",
        "https://machinelearningmastery.com/handwritten-digit-recognition-using-convolutional-neural-networks-python-keras/\n",
        "\n",
        "http://faroit.com/keras-docs/1.2.0/backend/\n",
        "\n",
        "\n"
      ]
    },
    {
      "cell_type": "markdown",
      "metadata": {
        "id": "EpfjM4LPAp8R",
        "colab_type": "text"
      },
      "source": [
        "### Baseline Model with Multi-Layer Perceptrons Augmentation\n",
        "\n",
        "NN - neural networks\n",
        "\n",
        "\n",
        "\n",
        "Multi-Layer Perceptrons - forma primitiva de NN (putini neuroni si putine layere de neuroni)\n",
        "\n",
        "Perceptron - 1 neuron / 1 node "
      ]
    },
    {
      "cell_type": "code",
      "metadata": {
        "id": "O0XDWp78Z2-o",
        "colab_type": "code",
        "outputId": "2373a7e0-6e32-46fb-e680-e8681d7e0c87",
        "colab": {
          "base_uri": "https://localhost:8080/",
          "height": 35
        }
      },
      "source": [
        "from keras.datasets import mnist\n",
        "from keras.models import Sequential\n",
        "from keras.layers import Dense\n",
        "from keras.layers import Dropout\n",
        "from keras.preprocessing.image import ImageDataGenerator\n",
        "from keras import backend as K\n",
        "import matplotlib.pyplot as plt\n",
        "import numpy as np\n",
        "from keras.utils import np_utils\n",
        "from sklearn.model_selection import train_test_split\n",
        "from sklearn.metrics import accuracy_score\n",
        "\n",
        "K.set_image_dim_ordering('th')\n",
        "\n",
        "# fix random seed for reproducibility\n",
        "seed = 7\n",
        "np.random.seed(seed)\n",
        "\n",
        "\n",
        "def scale_data(images, labels, number_classes=100):\n",
        "  # flatten 28*28 images to a 784 vector for each image\n",
        "  # luam fiecare imagine si o strivim intr-un vector\n",
        "  num_pixels = images.shape[-2] * images.shape[-1]\n",
        "  scaled_images = images.reshape(images.shape[0], num_pixels).astype('float32')\n",
        "  \n",
        "  # normalize inputs from 0-255 to 0-1\n",
        "  # importantfor NN - learn faster\n",
        "  scaled_images = scaled_images / 255\n",
        "\n",
        "  # one hot encode outputs\n",
        "  scaled_labels = np_utils.to_categorical(labels, num_classes=number_classes)\n",
        "  \n",
        "  return scaled_images, scaled_labels"
      ],
      "execution_count": 0,
      "outputs": [
        {
          "output_type": "stream",
          "text": [
            "Using TensorFlow backend.\n"
          ],
          "name": "stderr"
        }
      ]
    },
    {
      "cell_type": "code",
      "metadata": {
        "id": "Se2E_HhPlDhH",
        "colab_type": "code",
        "outputId": "cb92aa31-e5de-4b7b-f680-d162693cb7e8",
        "colab": {
          "base_uri": "https://localhost:8080/",
          "height": 104
        }
      },
      "source": [
        "# load data\n",
        "(X_train, y_train), (X_test, y_test) = mnist.load_data()\n",
        "\n",
        "# split test in validation + test\n",
        "X_test, X_validation, y_test, y_validation = train_test_split(X_test, y_test, test_size=0.2, random_state=seed)\n",
        "\n",
        "print(\"Train\\t\\t\", X_train.shape, y_train.shape)\n",
        "print(\"Validation\\t\", X_validation.shape, y_validation.shape)\n",
        "print(\"Test\\t\\t\", X_test.shape, y_test.shape)"
      ],
      "execution_count": 0,
      "outputs": [
        {
          "output_type": "stream",
          "text": [
            "Downloading data from https://s3.amazonaws.com/img-datasets/mnist.npz\n",
            "11493376/11490434 [==============================] - 2s 0us/step\n",
            "Train\t\t (60000, 28, 28) (60000,)\n",
            "Validation\t (2000, 28, 28) (2000,)\n",
            "Test\t\t (8000, 28, 28) (8000,)\n"
          ],
          "name": "stdout"
        }
      ]
    },
    {
      "cell_type": "code",
      "metadata": {
        "id": "yW0H0srfm2rn",
        "colab_type": "code",
        "outputId": "92df1381-bb00-4da0-a494-0dad4e09ce45",
        "colab": {
          "base_uri": "https://localhost:8080/",
          "height": 286
        }
      },
      "source": [
        "# show sample\n",
        "plt.imshow(X_train[0], cmap=plt.get_cmap('gray'))\n",
        "print(y_train[0])"
      ],
      "execution_count": 0,
      "outputs": [
        {
          "output_type": "stream",
          "text": [
            "5\n"
          ],
          "name": "stdout"
        },
        {
          "output_type": "display_data",
          "data": {
            "image/png": "[encoded data removed]",
            "text/plain": [
              "<Figure size 432x288 with 1 Axes>"
            ]
          },
          "metadata": {
            "tags": []
          }
        }
      ]
    },
    {
      "cell_type": "code",
      "metadata": {
        "id": "gMI793b-oVav",
        "colab_type": "code",
        "colab": {}
      },
      "source": [
        "X_train, y_train = scale_data(images=X_train, labels=y_train)\n",
        "X_validation, y_validation = scale_data(images=X_validation, labels=y_validation)\n",
        "X_test, _ = scale_data(images=X_test, labels=y_test)"
      ],
      "execution_count": 0,
      "outputs": []
    },
    {
      "cell_type": "code",
      "metadata": {
        "id": "MC2pAMjNrHF4",
        "colab_type": "code",
        "outputId": "ca142530-1978-4874-e68b-d2faaa9195bf",
        "colab": {
          "base_uri": "https://localhost:8080/",
          "height": 69
        }
      },
      "source": [
        "print(\"Train\\t\\t\", X_train.shape, y_train.shape)\n",
        "print(\"Validation\\t\", X_validation.shape, y_validation.shape)\n",
        "print(\"Test\\t\\t\", X_test.shape, y_test.shape)"
      ],
      "execution_count": 0,
      "outputs": [
        {
          "output_type": "stream",
          "text": [
            "Train\t\t (60000, 784) (60000, 100)\n",
            "Validation\t (2000, 784) (2000, 100)\n",
            "Test\t\t (8000, 784) (8000,)\n"
          ],
          "name": "stdout"
        }
      ]
    },
    {
      "cell_type": "code",
      "metadata": {
        "id": "fzo_2m2FoCpA",
        "colab_type": "code",
        "outputId": "ff73bf3a-f45e-43b0-998c-abb38018f982",
        "colab": {
          "base_uri": "https://localhost:8080/",
          "height": 417
        }
      },
      "source": [
        "# create model\n",
        "model = Sequential()\n",
        "model.add(Dense(X_train.shape[-1], input_dim=X_train.shape[-1], kernel_initializer='normal', activation='relu'))\n",
        "model.add(Dense(y_train.shape[-1], kernel_initializer='normal', activation='softmax'))\n",
        "# Compile model\n",
        "model.compile(loss='categorical_crossentropy', optimizer='adam', metrics=['accuracy'])\n",
        "# printeaza cum arata modelul\n",
        "model.summary()\n",
        "\n",
        "# None - poate avea orice dimensiune - se refera la numarul de imagini (exemple)"
      ],
      "execution_count": 0,
      "outputs": [
        {
          "output_type": "stream",
          "text": [
            "WARNING: Logging before flag parsing goes to stderr.\n",
            "W0825 03:28:34.264269 140142307116928 deprecation_wrapper.py:119] From /usr/local/lib/python3.6/dist-packages/keras/backend/tensorflow_backend.py:74: The name tf.get_default_graph is deprecated. Please use tf.compat.v1.get_default_graph instead.\n",
            "\n",
            "W0825 03:28:34.297963 140142307116928 deprecation_wrapper.py:119] From /usr/local/lib/python3.6/dist-packages/keras/backend/tensorflow_backend.py:517: The name tf.placeholder is deprecated. Please use tf.compat.v1.placeholder instead.\n",
            "\n",
            "W0825 03:28:34.304451 140142307116928 deprecation_wrapper.py:119] From /usr/local/lib/python3.6/dist-packages/keras/backend/tensorflow_backend.py:4115: The name tf.random_normal is deprecated. Please use tf.random.normal instead.\n",
            "\n",
            "W0825 03:28:34.329262 140142307116928 deprecation_wrapper.py:119] From /usr/local/lib/python3.6/dist-packages/keras/optimizers.py:790: The name tf.train.Optimizer is deprecated. Please use tf.compat.v1.train.Optimizer instead.\n",
            "\n",
            "W0825 03:28:34.354103 140142307116928 deprecation_wrapper.py:119] From /usr/local/lib/python3.6/dist-packages/keras/backend/tensorflow_backend.py:3295: The name tf.log is deprecated. Please use tf.math.log instead.\n",
            "\n"
          ],
          "name": "stderr"
        },
        {
          "output_type": "stream",
          "text": [
            "_________________________________________________________________\n",
            "Layer (type)                 Output Shape              Param #   \n",
            "=================================================================\n",
            "dense_1 (Dense)              (None, 784)               615440    \n",
            "_________________________________________________________________\n",
            "dense_2 (Dense)              (None, 100)               78500     \n",
            "=================================================================\n",
            "Total params: 693,940\n",
            "Trainable params: 693,940\n",
            "Non-trainable params: 0\n",
            "_________________________________________________________________\n"
          ],
          "name": "stdout"
        }
      ]
    },
    {
      "cell_type": "code",
      "metadata": {
        "id": "sCunMSV4qRHu",
        "colab_type": "code",
        "outputId": "3fbe347b-a18e-41d6-d37c-e9a43c29942b",
        "colab": {
          "base_uri": "https://localhost:8080/",
          "height": 832
        }
      },
      "source": [
        "history = model.fit(X_train, y_train, validation_data=(X_validation, y_validation), epochs=20, batch_size=200, verbose=1)"
      ],
      "execution_count": 0,
      "outputs": [
        {
          "output_type": "stream",
          "text": [
            "W0825 03:28:34.476541 140142307116928 deprecation.py:323] From /usr/local/lib/python3.6/dist-packages/tensorflow/python/ops/math_grad.py:1250: add_dispatch_support.<locals>.wrapper (from tensorflow.python.ops.array_ops) is deprecated and will be removed in a future version.\n",
            "Instructions for updating:\n",
            "Use tf.where in 2.0, which has the same broadcast rule as np.where\n",
            "W0825 03:28:34.522758 140142307116928 deprecation_wrapper.py:119] From /usr/local/lib/python3.6/dist-packages/keras/backend/tensorflow_backend.py:986: The name tf.assign_add is deprecated. Please use tf.compat.v1.assign_add instead.\n",
            "\n"
          ],
          "name": "stderr"
        },
        {
          "output_type": "stream",
          "text": [
            "Train on 60000 samples, validate on 2000 samples\n",
            "Epoch 1/20\n",
            "60000/60000 [==============================] - 5s 79us/step - loss: 0.3377 - acc: 0.9080 - val_loss: 0.1546 - val_acc: 0.9530\n",
            "Epoch 2/20\n",
            "60000/60000 [==============================] - 1s 22us/step - loss: 0.1237 - acc: 0.9646 - val_loss: 0.0972 - val_acc: 0.9695\n",
            "Epoch 3/20\n",
            "60000/60000 [==============================] - 1s 21us/step - loss: 0.0804 - acc: 0.9770 - val_loss: 0.0829 - val_acc: 0.9755\n",
            "Epoch 4/20\n",
            "60000/60000 [==============================] - 1s 20us/step - loss: 0.0578 - acc: 0.9837 - val_loss: 0.0772 - val_acc: 0.9750\n",
            "Epoch 5/20\n",
            "60000/60000 [==============================] - 1s 22us/step - loss: 0.0426 - acc: 0.9877 - val_loss: 0.0617 - val_acc: 0.9815\n",
            "Epoch 6/20\n",
            "60000/60000 [==============================] - 1s 22us/step - loss: 0.0311 - acc: 0.9916 - val_loss: 0.0580 - val_acc: 0.9815\n",
            "Epoch 7/20\n",
            "60000/60000 [==============================] - 1s 22us/step - loss: 0.0253 - acc: 0.9930 - val_loss: 0.0601 - val_acc: 0.9830\n",
            "Epoch 8/20\n",
            "60000/60000 [==============================] - 1s 21us/step - loss: 0.0165 - acc: 0.9964 - val_loss: 0.0544 - val_acc: 0.9820\n",
            "Epoch 9/20\n",
            "60000/60000 [==============================] - 1s 20us/step - loss: 0.0132 - acc: 0.9970 - val_loss: 0.0572 - val_acc: 0.9795\n",
            "Epoch 10/20\n",
            "60000/60000 [==============================] - 1s 21us/step - loss: 0.0099 - acc: 0.9980 - val_loss: 0.0528 - val_acc: 0.9850\n",
            "Epoch 11/20\n",
            "60000/60000 [==============================] - 1s 21us/step - loss: 0.0076 - acc: 0.9987 - val_loss: 0.0594 - val_acc: 0.9820\n",
            "Epoch 12/20\n",
            "60000/60000 [==============================] - 1s 21us/step - loss: 0.0059 - acc: 0.9990 - val_loss: 0.0515 - val_acc: 0.9860\n",
            "Epoch 13/20\n",
            "60000/60000 [==============================] - 1s 20us/step - loss: 0.0043 - acc: 0.9994 - val_loss: 0.0587 - val_acc: 0.9835\n",
            "Epoch 14/20\n",
            "60000/60000 [==============================] - 1s 21us/step - loss: 0.0038 - acc: 0.9996 - val_loss: 0.0573 - val_acc: 0.9850\n",
            "Epoch 15/20\n",
            "60000/60000 [==============================] - 1s 20us/step - loss: 0.0085 - acc: 0.9977 - val_loss: 0.0763 - val_acc: 0.9780\n",
            "Epoch 16/20\n",
            "60000/60000 [==============================] - 1s 20us/step - loss: 0.0060 - acc: 0.9985 - val_loss: 0.0737 - val_acc: 0.9805\n",
            "Epoch 17/20\n",
            "60000/60000 [==============================] - 1s 20us/step - loss: 0.0024 - acc: 0.9998 - val_loss: 0.0555 - val_acc: 0.9850\n",
            "Epoch 18/20\n",
            "60000/60000 [==============================] - 1s 20us/step - loss: 8.3770e-04 - acc: 1.0000 - val_loss: 0.0587 - val_acc: 0.9870\n",
            "Epoch 19/20\n",
            "60000/60000 [==============================] - 1s 21us/step - loss: 5.5843e-04 - acc: 1.0000 - val_loss: 0.0555 - val_acc: 0.9855\n",
            "Epoch 20/20\n",
            "60000/60000 [==============================] - 1s 21us/step - loss: 4.8585e-04 - acc: 1.0000 - val_loss: 0.0575 - val_acc: 0.9855\n"
          ],
          "name": "stdout"
        }
      ]
    },
    {
      "cell_type": "code",
      "metadata": {
        "id": "RJZx-FfIwzBw",
        "colab_type": "code",
        "outputId": "ae18e1e8-86c4-4f46-a5b7-b45dc4024e17",
        "colab": {
          "base_uri": "https://localhost:8080/",
          "height": 574
        }
      },
      "source": [
        "# summarize history for accuracy\n",
        "plt.plot(history.history['acc'])\n",
        "plt.plot(history.history['val_acc'])\n",
        "plt.grid()\n",
        "plt.title('model accuracy')\n",
        "plt.ylabel('accuracy')\n",
        "plt.xlabel('epoch')\n",
        "plt.legend(['train', 'validation'], loc='upper left')\n",
        "plt.show()\n",
        "# summarize history for loss\n",
        "plt.plot(history.history['loss'])\n",
        "plt.plot(history.history['val_loss'])\n",
        "plt.grid()\n",
        "plt.title('model loss')\n",
        "plt.ylabel('loss')\n",
        "plt.xlabel('epoch')\n",
        "plt.legend(['train', 'validation'], loc='upper left')\n",
        "plt.show()"
      ],
      "execution_count": 0,
      "outputs": [
        {
          "output_type": "display_data",
          "data": {
            "image/png": "[encoded data removed]",
            "text/plain": [
              "<Figure size 432x288 with 1 Axes>"
            ]
          },
          "metadata": {
            "tags": []
          }
        },
        {
          "output_type": "display_data",
          "data": {
            "image/png": "[encoded data removed]",
            "text/plain": [
              "<Figure size 432x288 with 1 Axes>"
            ]
          },
          "metadata": {
            "tags": []
          }
        }
      ]
    },
    {
      "cell_type": "code",
      "metadata": {
        "id": "JE5mC9eRqRKT",
        "colab_type": "code",
        "outputId": "ea07f21c-d7d0-494f-ab80-fecc470329e9",
        "colab": {
          "base_uri": "https://localhost:8080/",
          "height": 35
        }
      },
      "source": [
        "y_predicted = model.predict_classes(X_test)\n",
        "y_predicted = np.array([number%10 for number in y_predicted])\n",
        "accuracy = accuracy_score(y_test, y_predicted)\n",
        "\n",
        "print(\"Accuracy \",accuracy)"
      ],
      "execution_count": 0,
      "outputs": [
        {
          "output_type": "stream",
          "text": [
            "Accuracy  0.98425\n"
          ],
          "name": "stdout"
        }
      ]
    }
  ]
}