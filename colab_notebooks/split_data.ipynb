{
  "nbformat": 4,
  "nbformat_minor": 0,
  "metadata": {
    "colab": {
      "name": "split_data",
      "version": "0.3.2",
      "provenance": [],
      "collapsed_sections": [],
      "toc_visible": true,
      "include_colab_link": true
    },
    "kernelspec": {
      "name": "python3",
      "display_name": "Python 3"
    },
    "accelerator": "GPU"
  },
  "cells": [
    {
      "cell_type": "markdown",
      "metadata": {
        "id": "view-in-github",
        "colab_type": "text"
      },
      "source": [
        "<a href=\"https://colab.research.google.com/github/laviniaflorentina/neural_networks_dissertation/blob/master/split_data.ipynb\" target=\"_parent\"><img src=\"https://colab.research.google.com/assets/colab-badge.svg\" alt=\"Open In Colab\"/></a>"
      ]
    },
    {
      "cell_type": "markdown",
      "metadata": {
        "id": "9Oqf_5aDovWv",
        "colab_type": "text"
      },
      "source": [
        "### Installs"
      ]
    },
    {
      "cell_type": "code",
      "metadata": {
        "id": "hO4YIkTgSW_7",
        "colab_type": "code",
        "colab": {}
      },
      "source": [
        "from IPython.display import clear_output\n",
        "\n",
        "!pip install idx2numpy\n",
        "clear_output()"
      ],
      "execution_count": 0,
      "outputs": []
    },
    {
      "cell_type": "markdown",
      "metadata": {
        "id": "n6m0oZNIo0cY",
        "colab_type": "text"
      },
      "source": [
        "### Downloads"
      ]
    },
    {
      "cell_type": "code",
      "metadata": {
        "id": "df4lxDkBSW8A",
        "colab_type": "code",
        "outputId": "113b0901-b835-46e7-b7ec-1c12914b5274",
        "colab": {
          "base_uri": "https://localhost:8080/"
        }
      },
      "source": [
        "import os.path\n",
        "\n",
        "if not os.path.exists(\"train-images-idx3-ubyte.gz\"):\n",
        "  !wget http://yann.lecun.com/exdb/mnist/train-images-idx3-ubyte.gz\n",
        "  !gunzip train-images-idx3-ubyte.gz\n",
        "  clear_output(wait=True)\n",
        "\n",
        "if not os.path.exists(\"train-labels-idx1-ubyte.gz\"):\n",
        "  !wget http://yann.lecun.com/exdb/mnist/train-labels-idx1-ubyte.gz\n",
        "  !gunzip train-labels-idx1-ubyte.gz\n",
        "  clear_output(wait=True)\n",
        "\n",
        "if not os.path.exists(\"t10k-images-idx3-ubyte.gz\"):\n",
        "  !wget http://yann.lecun.com/exdb/mnist/t10k-images-idx3-ubyte.gz\n",
        "  !gunzip t10k-images-idx3-ubyte.gz\n",
        "  clear_output(wait=True)\n",
        "\n",
        "if not os.path.exists(\"t10k-labels-idx1-ubyte.gz\"):\n",
        "  !wget http://yann.lecun.com/exdb/mnist/t10k-labels-idx1-ubyte.gz\n",
        "  !gunzip t10k-labels-idx1-ubyte.gz\n",
        "  clear_output(wait=True)\n",
        "\n",
        "!ls"
      ],
      "execution_count": 0,
      "outputs": [
        {
          "output_type": "stream",
          "text": [
            "sample_data\t\tt10k-labels-idx1-ubyte\t train-labels-idx1-ubyte\n",
            "t10k-images-idx3-ubyte\ttrain-images-idx3-ubyte\n"
          ],
          "name": "stdout"
        }
      ]
    },
    {
      "cell_type": "markdown",
      "metadata": {
        "id": "FMx_eMoZo2iV",
        "colab_type": "text"
      },
      "source": [
        "### Imports"
      ]
    },
    {
      "cell_type": "code",
      "metadata": {
        "id": "ujrI13AsSW5e",
        "colab_type": "code",
        "colab": {}
      },
      "source": [
        "import idx2numpy\n",
        "import numpy as np\n",
        "from sklearn.model_selection import train_test_split\n",
        "import matplotlib.pyplot as plt\n",
        "import random"
      ],
      "execution_count": 0,
      "outputs": []
    },
    {
      "cell_type": "markdown",
      "metadata": {
        "id": "yQ-9Bb_Bo5Lk",
        "colab_type": "text"
      },
      "source": [
        "### Read Data"
      ]
    },
    {
      "cell_type": "code",
      "metadata": {
        "id": "_klLyuxbSW2N",
        "colab_type": "code",
        "outputId": "bf47b5da-bf07-4fef-e5d8-0cc2bb8c004e",
        "colab": {
          "base_uri": "https://localhost:8080/",
          "height": 52
        }
      },
      "source": [
        "train_files = [\"train-images-idx3-ubyte\", \"train-labels-idx1-ubyte\"]\n",
        "\n",
        "test_files = [\"t10k-images-idx3-ubyte\", \"t10k-labels-idx1-ubyte\"]\n",
        "\n",
        "X = idx2numpy.convert_from_file(train_files[0])\n",
        "y = idx2numpy.convert_from_file(train_files[1])\n",
        "\n",
        "X_test = idx2numpy.convert_from_file(test_files[0])\n",
        "y_test = idx2numpy.convert_from_file(test_files[1])\n",
        "\n",
        "print(\"Train shape\",X.shape)\n",
        "print(\"Test  shape\", X_test.shape)"
      ],
      "execution_count": 0,
      "outputs": [
        {
          "output_type": "stream",
          "text": [
            "Train shape (60000, 28, 28)\n",
            "Test  shape (10000, 28, 28)\n"
          ],
          "name": "stdout"
        }
      ]
    },
    {
      "cell_type": "markdown",
      "metadata": {
        "id": "mZQSrvCrMa1l",
        "colab_type": "text"
      },
      "source": [
        "### Split Data"
      ]
    },
    {
      "cell_type": "code",
      "metadata": {
        "id": "fZt-yzumF5Ic",
        "colab_type": "code",
        "outputId": "6d132d77-23e2-4435-a8ae-4cbfd14f6224",
        "colab": {
          "base_uri": "https://localhost:8080/",
          "height": 52
        }
      },
      "source": [
        "X, X_train, y, y_train = train_test_split(X, y, test_size=0.05)\n",
        "\n",
        "X, X_validation, y, y_validation = train_test_split(X, y, test_size=0.05263)\n",
        "\n",
        "i = random.randint(0, len(X_train))\n",
        "\n",
        "print(\"Train     \", X_train.shape)\n",
        "print(\"Validation\",X_validation.shape)"
      ],
      "execution_count": 0,
      "outputs": [
        {
          "output_type": "stream",
          "text": [
            "Train      (3000, 28, 28)\n",
            "Validation (3000, 28, 28)\n"
          ],
          "name": "stdout"
        }
      ]
    },
    {
      "cell_type": "markdown",
      "metadata": {
        "id": "349MaAKiXBel",
        "colab_type": "text"
      },
      "source": [
        "### Sample"
      ]
    },
    {
      "cell_type": "code",
      "metadata": {
        "id": "p_jClwtiXBlc",
        "colab_type": "code",
        "outputId": "e09b9ec1-18e7-474b-f4a8-cbac9b06d35f",
        "colab": {
          "base_uri": "https://localhost:8080/",
          "height": 825
        }
      },
      "source": [
        "# plot image\n",
        "plt.imshow(X_train[i], cmap=plt.get_cmap('gray'))\n",
        "plt.show()\n",
        "# label\n",
        "print(y_train[i])\n",
        "\n",
        "# plot image\n",
        "plt.imshow(X_validation[i], cmap=plt.get_cmap('gray'))\n",
        "plt.show()\n",
        "# label\n",
        "print(y_validation[i])\n",
        "\n",
        "# plot image\n",
        "plt.imshow(X_test[i], cmap=plt.get_cmap('gray'))\n",
        "plt.show()\n",
        "# label\n",
        "print(y_test[i])"
      ],
      "execution_count": 0,
      "outputs": [
        {
          "output_type": "display_data",
          "data": {
            "image/png": "[encoded data removed]",
            "text/plain": [
              "<Figure size 432x288 with 1 Axes>"
            ]
          },
          "metadata": {
            "tags": []
          }
        },
        {
          "output_type": "stream",
          "text": [
            "4\n"
          ],
          "name": "stdout"
        },
        {
          "output_type": "display_data",
          "data": {
            "image/png": "[encoded data removed]",
            "text/plain": [
              "<Figure size 432x288 with 1 Axes>"
            ]
          },
          "metadata": {
            "tags": []
          }
        },
        {
          "output_type": "stream",
          "text": [
            "2\n"
          ],
          "name": "stdout"
        },
        {
          "output_type": "display_data",
          "data": {
            "image/png": "[encoded data removed]",
            "text/plain": [
              "<Figure size 432x288 with 1 Axes>"
            ]
          },
          "metadata": {
            "tags": []
          }
        },
        {
          "output_type": "stream",
          "text": [
            "4\n"
          ],
          "name": "stdout"
        }
      ]
    },
    {
      "cell_type": "markdown",
      "metadata": {
        "id": "PxwNKzlyWUwX",
        "colab_type": "text"
      },
      "source": [
        "### Save Data"
      ]
    },
    {
      "cell_type": "code",
      "metadata": {
        "id": "Bs3WnWW-WWFZ",
        "colab_type": "code",
        "outputId": "5aded6f0-0b95-4e84-a9ed-3aa0c21faa40",
        "colab": {
          "base_uri": "https://localhost:8080/",
          "height": 121
        }
      },
      "source": [
        "np.savez(\"train_minist.npz\", X_train, y_train)\n",
        "print(\"Train saved!\")\n",
        "print(\"Train shape\",X_train.shape)\n",
        "\n",
        "np.savez(\"validation_minist.npz\", X_validation, y_validation)\n",
        "print(\"Validation saved!\")\n",
        "print(\"Validation shape\",X_validation.shape)\n",
        "\n",
        "np.savez(\"test_minist.npz\", X_test, y_test)\n",
        "print(\"Test saved!\")\n",
        "print(\"Test shape\",X_test.shape)"
      ],
      "execution_count": 0,
      "outputs": [
        {
          "output_type": "stream",
          "text": [
            "Train saved!\n",
            "Train shape (3000, 28, 28)\n",
            "Validation saved!\n",
            "Validation shape (3000, 28, 28)\n",
            "Test saved!\n",
            "Test shape (10000, 28, 28)\n"
          ],
          "name": "stdout"
        }
      ]
    },
    {
      "cell_type": "markdown",
      "metadata": {
        "id": "_Bj6AivQYV1F",
        "colab_type": "text"
      },
      "source": [
        "### Load Data"
      ]
    },
    {
      "cell_type": "code",
      "metadata": {
        "id": "lBdwLShEYXRs",
        "colab_type": "code",
        "outputId": "ea4bb596-e614-43fb-a976-5eb9c73207b9",
        "colab": {
          "base_uri": "https://localhost:8080/",
          "height": 69
        }
      },
      "source": [
        "npzfile = np.load(\"train_minist.npz\")\n",
        "X_train_loaded = npzfile['arr_0']\n",
        "y_train_loaded = npzfile['arr_1']\n",
        "\n",
        "npzfile = np.load(\"validation_minist.npz\")\n",
        "X_validation_loaded = npzfile['arr_0']\n",
        "y_validation_loaded = npzfile['arr_1']\n",
        "\n",
        "npzfile = np.load(\"test_minist.npz\")\n",
        "X_test_loaded = npzfile['arr_0']\n",
        "y_test_loaded = npzfile['arr_1']\n",
        "\n",
        "print(\"Train\",X_train_loaded.shape)\n",
        "print(\"Valid\",X_validation_loaded.shape)\n",
        "print(\"Test \",X_test_loaded.shape)"
      ],
      "execution_count": 0,
      "outputs": [
        {
          "output_type": "stream",
          "text": [
            "Train (3000, 28, 28)\n",
            "Valid (3000, 28, 28)\n",
            "Test  (10000, 28, 28)\n"
          ],
          "name": "stdout"
        }
      ]
    },
    {
      "cell_type": "markdown",
      "metadata": {
        "id": "07SbeKI8Yt9v",
        "colab_type": "text"
      },
      "source": [
        "### Sample"
      ]
    },
    {
      "cell_type": "code",
      "metadata": {
        "id": "yDFaDF5JZUeO",
        "colab_type": "code",
        "outputId": "5193b04e-966e-45f9-a211-efa3bde18517",
        "colab": {
          "base_uri": "https://localhost:8080/",
          "height": 825
        }
      },
      "source": [
        "# plot image\n",
        "plt.imshow(X_train_loaded[i], cmap=plt.get_cmap('gray'))\n",
        "plt.show()\n",
        "# label\n",
        "print(y_train_loaded[i])\n",
        "\n",
        "# plot image\n",
        "plt.imshow(X_validation_loaded[i], cmap=plt.get_cmap('gray'))\n",
        "plt.show()\n",
        "# label\n",
        "print(y_validation_loaded[i])\n",
        "\n",
        "# plot image\n",
        "plt.imshow(X_test_loaded[i], cmap=plt.get_cmap('gray'))\n",
        "plt.show()\n",
        "# label\n",
        "print(y_test_loaded[i])"
      ],
      "execution_count": 0,
      "outputs": [
        {
          "output_type": "display_data",
          "data": {
            "image/png": "[encoded data removed]",
            "text/plain": [
              "<Figure size 432x288 with 1 Axes>"
            ]
          },
          "metadata": {
            "tags": []
          }
        },
        {
          "output_type": "stream",
          "text": [
            "4\n"
          ],
          "name": "stdout"
        },
        {
          "output_type": "display_data",
          "data": {
            "image/png": "[encoded data removed]",
            "text/plain": [
              "<Figure size 432x288 with 1 Axes>"
            ]
          },
          "metadata": {
            "tags": []
          }
        },
        {
          "output_type": "stream",
          "text": [
            "2\n"
          ],
          "name": "stdout"
        },
        {
          "output_type": "display_data",
          "data": {
            "image/png": "[encoded data removed]",
            "text/plain": [
              "<Figure size 432x288 with 1 Axes>"
            ]
          },
          "metadata": {
            "tags": []
          }
        },
        {
          "output_type": "stream",
          "text": [
            "4\n"
          ],
          "name": "stdout"
        }
      ]
    }
  ]
}