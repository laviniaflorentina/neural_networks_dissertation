{
  "nbformat": 4,
  "nbformat_minor": 0,
  "metadata": {
    "colab": {
      "name": "generate_data.ipynb",
      "version": "0.3.2",
      "provenance": [],
      "collapsed_sections": [],
      "toc_visible": true,
      "include_colab_link": true
    },
    "kernelspec": {
      "name": "python3",
      "display_name": "Python 3"
    }
  },
  "cells": [
    {
      "cell_type": "markdown",
      "metadata": {
        "id": "view-in-github",
        "colab_type": "text"
      },
      "source": [
        "<a href=\"https://colab.research.google.com/github/laviniaflorentina/neural_networks_dissertation/blob/master/generate_data.ipynb\" target=\"_parent\"><img src=\"https://colab.research.google.com/assets/colab-badge.svg\" alt=\"Open In Colab\"/></a>"
      ]
    },
    {
      "cell_type": "markdown",
      "metadata": {
        "id": "G08v2haeg-Nw",
        "colab_type": "text"
      },
      "source": [
        "## Generate augmented data for train, validation and test"
      ]
    },
    {
      "cell_type": "markdown",
      "metadata": {
        "id": "vvfAlnUnx8mZ",
        "colab_type": "text"
      },
      "source": [
        "### Installs"
      ]
    },
    {
      "cell_type": "code",
      "metadata": {
        "id": "pb_zPT-Xx8v2",
        "colab_type": "code",
        "colab": {}
      },
      "source": [
        "from IPython.display import clear_output\n",
        "\n",
        "!pip install idx2numpy\n",
        "clear_output()"
      ],
      "execution_count": 0,
      "outputs": []
    },
    {
      "cell_type": "markdown",
      "metadata": {
        "id": "pdueA_Olx1nD",
        "colab_type": "text"
      },
      "source": [
        "### Downloads"
      ]
    },
    {
      "cell_type": "code",
      "metadata": {
        "id": "YleN56Psx1Fo",
        "colab_type": "code",
        "outputId": "c68df357-38a1-45eb-ccfa-0566b36ea77e",
        "colab": {
          "base_uri": "https://localhost:8080/",
          "height": 52
        }
      },
      "source": [
        "import os.path\n",
        "\n",
        "if not os.path.exists(\"train-images-idx3-ubyte.gz\"):\n",
        "  !wget http://yann.lecun.com/exdb/mnist/train-images-idx3-ubyte.gz\n",
        "  !gunzip train-images-idx3-ubyte.gz\n",
        "  clear_output(wait=True)\n",
        "\n",
        "if not os.path.exists(\"train-labels-idx1-ubyte.gz\"):\n",
        "  !wget http://yann.lecun.com/exdb/mnist/train-labels-idx1-ubyte.gz\n",
        "  !gunzip train-labels-idx1-ubyte.gz\n",
        "  clear_output(wait=True)\n",
        "\n",
        "if not os.path.exists(\"t10k-images-idx3-ubyte.gz\"):\n",
        "  !wget http://yann.lecun.com/exdb/mnist/t10k-images-idx3-ubyte.gz\n",
        "  !gunzip t10k-images-idx3-ubyte.gz\n",
        "  clear_output(wait=True)\n",
        "\n",
        "if not os.path.exists(\"t10k-labels-idx1-ubyte.gz\"):\n",
        "  !wget http://yann.lecun.com/exdb/mnist/t10k-labels-idx1-ubyte.gz\n",
        "  !gunzip t10k-labels-idx1-ubyte.gz\n",
        "  clear_output(wait=True)\n",
        "\n",
        "!ls"
      ],
      "execution_count": 0,
      "outputs": [
        {
          "output_type": "stream",
          "text": [
            "sample_data\t\tt10k-labels-idx1-ubyte\t train-labels-idx1-ubyte\n",
            "t10k-images-idx3-ubyte\ttrain-images-idx3-ubyte\n"
          ],
          "name": "stdout"
        }
      ]
    },
    {
      "cell_type": "markdown",
      "metadata": {
        "id": "yWnK_mPBhDXt",
        "colab_type": "text"
      },
      "source": [
        "### Imports\n"
      ]
    },
    {
      "cell_type": "code",
      "metadata": {
        "id": "c-40F4uog4vb",
        "colab_type": "code",
        "outputId": "dd99265d-f9bc-4567-d4c4-13fe2df27e57",
        "colab": {
          "base_uri": "https://localhost:8080/",
          "height": 35
        }
      },
      "source": [
        "from keras.datasets import mnist\n",
        "from keras.models import Sequential\n",
        "from keras.layers import Dense\n",
        "from keras.layers import Dropout\n",
        "from keras.preprocessing.image import ImageDataGenerator\n",
        "from keras import backend as K\n",
        "import matplotlib.pyplot as plt\n",
        "import numpy as np\n",
        "import idx2numpy\n",
        "from keras.utils import np_utils\n",
        "from sklearn.model_selection import train_test_split\n",
        "import random\n",
        "\n",
        "K.set_image_data_format('channels_first')\n",
        "\n",
        "# fix random seed for reproducibility\n",
        "seed = 7\n",
        "np.random.seed(seed)\n",
        "\n",
        "# rotation = how much to rotate at random\n",
        "# shift - how much to shift in random direction\n",
        "# flip - flip hosizonatl and vertical at random\n",
        "# size=-1 means we augment all data\n",
        "def augment(images, labels, size=-1, noise_range=0, rotation=0, shift=0):\n",
        "  # keep track if first digit\n",
        "  first_digit = True\n",
        "\n",
        "  first_image = None\n",
        "\n",
        "  # reshape to be [samples][chanels][width][height]\n",
        "  images = images.reshape(images.shape[0], 1, images.shape[-1], images.shape[-2])\n",
        "\n",
        "  # convert from int to float\n",
        "  images = images.astype('float32')\n",
        "  \n",
        "  final_images_regular = []\n",
        "  final_images_noisy = []\n",
        "  final_labels = []\n",
        "  data_generator = ImageDataGenerator(\n",
        "                             rotation_range=rotation, \n",
        "                             width_shift_range=shift, \n",
        "                             height_shift_range=shift, \n",
        "                             horizontal_flip=False, \n",
        "                             vertical_flip=False)\n",
        "  # for -1 use all data\n",
        "  if size == -1:\n",
        "    size = 2 * len(images)\n",
        "  else:\n",
        "    size *= 2\n",
        "\n",
        "  index = 0\n",
        "\n",
        "  for image, label in data_generator.flow(images, labels, batch_size=1):\n",
        "    if index == size:\n",
        "      break\n",
        "\n",
        "    if (index/2) % 10000 == 0:\n",
        "      print(\"\\t\",int(index/2), \"/\",int(size/2))\n",
        "\n",
        "    if first_digit:\n",
        "      first_image = image[0][0]\n",
        "      first_label = label[0]\n",
        "\n",
        "      first_digit = False\n",
        "\n",
        "    else:\n",
        "      second_image = image[0][0]\n",
        "      second_label = label[0]\n",
        "\n",
        "      large_image = np.concatenate((first_image, second_image), axis=1)\n",
        "      large_label = first_label * 10 + second_label\n",
        "\n",
        "      noise_lvl = random.randint(0, noise_range)\n",
        "      noise = np.random.normal(1,noise_lvl, large_image.shape)\n",
        "\n",
        "      final_images_regular.append(large_image)\n",
        "      final_images_noisy.append(large_image + noise)\n",
        "      final_labels.append(large_label)\n",
        "\n",
        "      first_digit = True\n",
        "\n",
        "    index += 1\n",
        "\n",
        "  return np.array(final_images_regular), np.array(final_images_noisy), final_labels"
      ],
      "execution_count": 0,
      "outputs": [
        {
          "output_type": "stream",
          "text": [
            "Using TensorFlow backend.\n"
          ],
          "name": "stderr"
        }
      ]
    },
    {
      "cell_type": "markdown",
      "metadata": {
        "id": "EpSdKJaa0KPo",
        "colab_type": "text"
      },
      "source": [
        "### Load Data"
      ]
    },
    {
      "cell_type": "code",
      "metadata": {
        "id": "c-1L0k2av99Q",
        "colab_type": "code",
        "outputId": "8654e9a5-2d41-4001-d8b8-ae98d30c55f5",
        "colab": {
          "base_uri": "https://localhost:8080/",
          "height": 52
        }
      },
      "source": [
        "train_files = [\"train-images-idx3-ubyte\", \"train-labels-idx1-ubyte\"]\n",
        "\n",
        "test_files = [\"t10k-images-idx3-ubyte\", \"t10k-labels-idx1-ubyte\"]\n",
        "\n",
        "X_train = idx2numpy.convert_from_file(train_files[0])\n",
        "y_train = idx2numpy.convert_from_file(train_files[1])\n",
        "\n",
        "X_test = idx2numpy.convert_from_file(test_files[0])\n",
        "y_test = idx2numpy.convert_from_file(test_files[1])\n",
        "\n",
        "print(\"Train shape\",X_train.shape)\n",
        "print(\"Test  shape\", X_test.shape)"
      ],
      "execution_count": 0,
      "outputs": [
        {
          "output_type": "stream",
          "text": [
            "Train shape (60000, 28, 28)\n",
            "Test  shape (10000, 28, 28)\n"
          ],
          "name": "stdout"
        }
      ]
    },
    {
      "cell_type": "markdown",
      "metadata": {
        "id": "PdK2Ndps0OFW",
        "colab_type": "text"
      },
      "source": [
        "### Print Sample"
      ]
    },
    {
      "cell_type": "code",
      "metadata": {
        "id": "JuXWW15mxMov",
        "colab_type": "code",
        "outputId": "d85d7d28-e443-4d04-f1b0-3595fa900e2e",
        "colab": {
          "base_uri": "https://localhost:8080/",
          "height": 286
        }
      },
      "source": [
        "# plot image\n",
        "plt.imshow(X_train[0], cmap=plt.get_cmap('gray'))\n",
        "plt.show()\n",
        "# label\n",
        "y_train[0]"
      ],
      "execution_count": 0,
      "outputs": [
        {
          "output_type": "display_data",
          "data": {
            "image/png": "[encoded data removed]",
            "text/plain": [
              "<Figure size 432x288 with 1 Axes>"
            ]
          },
          "metadata": {
            "tags": []
          }
        },
        {
          "output_type": "execute_result",
          "data": {
            "text/plain": [
              "5"
            ]
          },
          "metadata": {
            "tags": []
          },
          "execution_count": 5
        }
      ]
    },
    {
      "cell_type": "markdown",
      "metadata": {
        "id": "5ULCAvAIftRq",
        "colab_type": "text"
      },
      "source": [
        "### Split train-validation"
      ]
    },
    {
      "cell_type": "code",
      "metadata": {
        "id": "DXvcWOTzfvMN",
        "colab_type": "code",
        "outputId": "33db5cb5-5da3-4637-f6a7-6a4f80d82b85",
        "colab": {
          "base_uri": "https://localhost:8080/",
          "height": 52
        }
      },
      "source": [
        "# split test in validation + test\n",
        "X_train, X_validation, y_train, y_validation = train_test_split(X_train, y_train, test_size=0.1, random_state=seed)\n",
        "\n",
        "print(\"Train shape\",X_train.shape)\n",
        "print(\"Valid shape\",X_validation.shape)"
      ],
      "execution_count": 0,
      "outputs": [
        {
          "output_type": "stream",
          "text": [
            "Train shape (54000, 28, 28)\n",
            "Valid shape (6000, 28, 28)\n"
          ],
          "name": "stdout"
        }
      ]
    },
    {
      "cell_type": "markdown",
      "metadata": {
        "id": "mtIVXeOs4bC2",
        "colab_type": "text"
      },
      "source": [
        "### Generate Data"
      ]
    },
    {
      "cell_type": "code",
      "metadata": {
        "id": "E1r0OQAXmv3E",
        "colab_type": "code",
        "outputId": "ee793e83-6d5a-4936-b7dd-713370b5cb30",
        "colab": {
          "base_uri": "https://localhost:8080/",
          "height": 311
        }
      },
      "source": [
        "X_train_regular, X_train_noisy ,y_train = augment(images=X_train, \n",
        "                                                  labels=y_train, \n",
        "                                                  size=100000, \n",
        "                                                  noise_range=40, \n",
        "                                                  rotation=35, \n",
        "                                                  shift=0.3)\n",
        "np.savez(\"train_double_digits.npz\", X_train_regular, X_train_noisy, y_train)\n",
        "print(\"Train saved!\")\n",
        "print(\"Train shape\",X_train_regular.shape)\n",
        "\n",
        "X_valid_regular, X_valid_noisy ,y_valid = augment(images=X_validation, \n",
        "                                                  labels=y_validation, \n",
        "                                                  size=5000, \n",
        "                                                  noise_range=30, \n",
        "                                                  rotation=25, \n",
        "                                                  shift=0.2)\n",
        "np.savez(\"validation_double_digits.npz\", X_valid_regular, X_valid_noisy, y_valid)\n",
        "print(\"Validation saved!\")\n",
        "print(\"Validation shape\",X_valid_regular.shape)\n",
        "\n",
        "np.savez(\"test_single_digits.npz\", X_test, y_test)\n",
        "print(\"Test saved!\")\n",
        "print(\"Test shape\",X_test.shape)"
      ],
      "execution_count": 0,
      "outputs": [
        {
          "output_type": "stream",
          "text": [
            "\t 0 / 100000\n",
            "\t 10000 / 100000\n",
            "\t 20000 / 100000\n",
            "\t 30000 / 100000\n",
            "\t 40000 / 100000\n",
            "\t 50000 / 100000\n",
            "\t 60000 / 100000\n",
            "\t 70000 / 100000\n",
            "\t 80000 / 100000\n",
            "\t 90000 / 100000\n",
            "Train saved!\n",
            "Train shape (100000, 28, 56)\n",
            "\t 0 / 5000\n",
            "Validation saved!\n",
            "Validation shape (5000, 28, 56)\n",
            "Test saved!\n",
            "Test shape (10000, 28, 28)\n"
          ],
          "name": "stdout"
        }
      ]
    },
    {
      "cell_type": "code",
      "metadata": {
        "id": "A15etPME4zGL",
        "colab_type": "code",
        "outputId": "d20f1fab-99c9-4edb-f878-44a273375d1f",
        "colab": {
          "base_uri": "https://localhost:8080/",
          "height": 438
        }
      },
      "source": [
        "i = 0\n",
        "# plot image\n",
        "plt.imshow(X_train_regular[i], cmap=plt.get_cmap('gray'))\n",
        "plt.show()\n",
        "plt.imshow(X_train_noisy[i], cmap=plt.get_cmap('gray'))\n",
        "plt.show()\n",
        "# label\n",
        "y_train[i]"
      ],
      "execution_count": 0,
      "outputs": [
        {
          "output_type": "display_data",
          "data": {
            "image/png": "[encoded data removed]",
            "text/plain": [
              "<Figure size 432x288 with 1 Axes>"
            ]
          },
          "metadata": {
            "tags": []
          }
        },
        {
          "output_type": "display_data",
          "data": {
            "image/png": "[encoded data removed]",
            "text/plain": [
              "<Figure size 432x288 with 1 Axes>"
            ]
          },
          "metadata": {
            "tags": []
          }
        },
        {
          "output_type": "execute_result",
          "data": {
            "text/plain": [
              "99"
            ]
          },
          "metadata": {
            "tags": []
          },
          "execution_count": 8
        }
      ]
    },
    {
      "cell_type": "markdown",
      "metadata": {
        "id": "1Pjrcz2tnPhg",
        "colab_type": "text"
      },
      "source": [
        "### Load Dataset"
      ]
    },
    {
      "cell_type": "code",
      "metadata": {
        "id": "wEDbuclm7mDi",
        "colab_type": "code",
        "outputId": "87ec2883-7c76-45df-e45b-3cac7876e4a0",
        "colab": {
          "base_uri": "https://localhost:8080/",
          "height": 69
        }
      },
      "source": [
        "npzfile = np.load(\"train_double_digits.npz\")\n",
        "X_train_regular = npzfile['arr_0']\n",
        "X_train_noisy = npzfile['arr_1']\n",
        "y_train = npzfile['arr_2']\n",
        "\n",
        "npzfile = np.load(\"validation_double_digits.npz\")\n",
        "X_valid_regular = npzfile['arr_0']\n",
        "X_valid_noisy = npzfile['arr_1']\n",
        "y_validation = npzfile['arr_2']\n",
        "\n",
        "npzfile = np.load(\"test_single_digits.npz\")\n",
        "X_test = npzfile['arr_0']\n",
        "y_test = npzfile['arr_1']\n",
        "\n",
        "print(\"Train\",X_train_regular.shape)\n",
        "print(\"Valid\",X_valid_regular.shape)\n",
        "print(\"Test \",X_test.shape)"
      ],
      "execution_count": 0,
      "outputs": [
        {
          "output_type": "stream",
          "text": [
            "Train (100000, 28, 56)\n",
            "Valid (5000, 28, 56)\n",
            "Test  (10000, 28, 28)\n"
          ],
          "name": "stdout"
        }
      ]
    },
    {
      "cell_type": "code",
      "metadata": {
        "id": "0uh3OggI7t9-",
        "colab_type": "code",
        "outputId": "9820c6d8-1210-486d-acf0-65684bb1dd9d",
        "colab": {
          "base_uri": "https://localhost:8080/",
          "height": 438
        }
      },
      "source": [
        "i = 0\n",
        "# plot image\n",
        "plt.imshow(X_train_regular[i], cmap=plt.get_cmap('gray'))\n",
        "plt.show()\n",
        "plt.imshow(X_train_noisy[i], cmap=plt.get_cmap('gray'))\n",
        "plt.show()\n",
        "# label\n",
        "y_train[i]"
      ],
      "execution_count": 0,
      "outputs": [
        {
          "output_type": "display_data",
          "data": {
            "image/png": "[encoded data removed]",
            "text/plain": [
              "<Figure size 432x288 with 1 Axes>"
            ]
          },
          "metadata": {
            "tags": []
          }
        },
        {
          "output_type": "display_data",
          "data": {
            "image/png": "[encoded data removed]",
            "text/plain": [
              "<Figure size 432x288 with 1 Axes>"
            ]
          },
          "metadata": {
            "tags": []
          }
        },
        {
          "output_type": "execute_result",
          "data": {
            "text/plain": [
              "99"
            ]
          },
          "metadata": {
            "tags": []
          },
          "execution_count": 10
        }
      ]
    }
  ]
}