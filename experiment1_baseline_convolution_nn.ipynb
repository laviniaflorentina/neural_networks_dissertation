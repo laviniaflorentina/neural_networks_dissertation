{
  "nbformat": 4,
  "nbformat_minor": 0,
  "metadata": {
    "colab": {
      "name": "experiment1_baseline_convolution_nn",
      "version": "0.3.2",
      "provenance": [],
      "collapsed_sections": [],
      "include_colab_link": true
    },
    "kernelspec": {
      "name": "python3",
      "display_name": "Python 3"
    },
    "accelerator": "GPU"
  },
  "cells": [
    {
      "cell_type": "markdown",
      "metadata": {
        "id": "view-in-github",
        "colab_type": "text"
      },
      "source": [
        "<a href=\"https://colab.research.google.com/github/laviniaflorentina/neural_networks_dissertation/blob/master/experiment1_baseline_convolution_nn.ipynb\" target=\"_parent\"><img src=\"https://colab.research.google.com/assets/colab-badge.svg\" alt=\"Open In Colab\"/></a>"
      ]
    },
    {
      "cell_type": "markdown",
      "metadata": {
        "id": "Uj4s3FZg7YPm",
        "colab_type": "text"
      },
      "source": [
        "### Augmentation NN\n",
        "\n",
        "https://machinelearningmastery.com/how-to-improve-deep-learning-model-robustness-by-adding-noise/\n",
        "\n",
        "https://machinelearningmastery.com/handwritten-digit-recognition-using-convolutional-neural-networks-python-keras/\n",
        "\n",
        "http://faroit.com/keras-docs/1.2.0/backend/\n",
        "\n",
        "\n"
      ]
    },
    {
      "cell_type": "markdown",
      "metadata": {
        "id": "EpfjM4LPAp8R",
        "colab_type": "text"
      },
      "source": [
        "### Baseline Model with Multi-Layer Perceptrons Augmentation\n",
        "\n",
        "NN - neural networks\n",
        "\n",
        "\n",
        "\n",
        "Multi-Layer Perceptrons - forma primitiva de NN (putini neuroni si putine layere de neuroni)\n",
        "\n",
        "Perceptron - 1 neuron / 1 node "
      ]
    },
    {
      "cell_type": "code",
      "metadata": {
        "id": "O0XDWp78Z2-o",
        "colab_type": "code",
        "outputId": "433fde27-90e7-403a-bb11-168e55d4afe3",
        "colab": {
          "base_uri": "https://localhost:8080/",
          "height": 35
        }
      },
      "source": [
        "from keras.datasets import mnist\n",
        "from keras.models import Sequential\n",
        "from keras.layers import Dense\n",
        "from keras.layers import Dropout\n",
        "from keras.preprocessing.image import ImageDataGenerator\n",
        "from keras import backend as K\n",
        "import matplotlib.pyplot as plt\n",
        "import numpy as np\n",
        "from keras.utils import np_utils\n",
        "from sklearn.model_selection import train_test_split\n",
        "from sklearn.metrics import accuracy_score\n",
        "from keras.layers.convolutional import Conv2D\n",
        "from keras.layers.convolutional import MaxPooling2D\n",
        "from keras.layers import Flatten\n",
        "\n",
        "K.set_image_dim_ordering('th')\n",
        "\n",
        "# fix random seed for reproducibility\n",
        "seed = 7\n",
        "np.random.seed(seed)\n",
        "\n",
        "\n",
        "def scale_data(images, labels, number_classes=100):\n",
        "  \n",
        "  scaled_images = images.reshape(images.shape[0], 1, images.shape[1], images.shape[2]).astype('float32')\n",
        "  \n",
        "  # normalize inputs from 0-255 to 0-1\n",
        "  # importantfor NN - learn faster\n",
        "  scaled_images = scaled_images / 255\n",
        "\n",
        "  # one hot encode outputs\n",
        "  scaled_labels = np_utils.to_categorical(labels, num_classes=number_classes)\n",
        "  return scaled_images, scaled_labels"
      ],
      "execution_count": 0,
      "outputs": [
        {
          "output_type": "stream",
          "text": [
            "Using TensorFlow backend.\n"
          ],
          "name": "stderr"
        }
      ]
    },
    {
      "cell_type": "code",
      "metadata": {
        "id": "Se2E_HhPlDhH",
        "colab_type": "code",
        "outputId": "3d1f05b6-a65c-4069-cd7f-2f1e3619c530",
        "colab": {
          "base_uri": "https://localhost:8080/",
          "height": 104
        }
      },
      "source": [
        "# load data\n",
        "(X_train, y_train), (X_test, y_test) = mnist.load_data()\n",
        "\n",
        "# split test in validation + test\n",
        "X_test, X_validation, y_test, y_validation = train_test_split(X_test, y_test, test_size=0.2, random_state=seed)\n",
        "\n",
        "print(\"Train\\t\\t\", X_train.shape, y_train.shape)\n",
        "print(\"Validation\\t\", X_validation.shape, y_validation.shape)\n",
        "print(\"Test\\t\\t\", X_test.shape, y_test.shape)"
      ],
      "execution_count": 0,
      "outputs": [
        {
          "output_type": "stream",
          "text": [
            "Downloading data from https://s3.amazonaws.com/img-datasets/mnist.npz\n",
            "11493376/11490434 [==============================] - 1s 0us/step\n",
            "Train\t\t (60000, 28, 28) (60000,)\n",
            "Validation\t (2000, 28, 28) (2000,)\n",
            "Test\t\t (8000, 28, 28) (8000,)\n"
          ],
          "name": "stdout"
        }
      ]
    },
    {
      "cell_type": "code",
      "metadata": {
        "id": "yW0H0srfm2rn",
        "colab_type": "code",
        "outputId": "7693a887-6df5-4368-8db1-76fc705a3681",
        "colab": {
          "base_uri": "https://localhost:8080/",
          "height": 286
        }
      },
      "source": [
        "# show sample\n",
        "plt.imshow(X_train[0], cmap=plt.get_cmap('gray'))\n",
        "print(y_train[0])"
      ],
      "execution_count": 0,
      "outputs": [
        {
          "output_type": "stream",
          "text": [
            "5\n"
          ],
          "name": "stdout"
        },
        {
          "output_type": "display_data",
          "data": {
            "image/png": "[encoded data removed]",
            "text/plain": [
              "<Figure size 432x288 with 1 Axes>"
            ]
          },
          "metadata": {
            "tags": []
          }
        }
      ]
    },
    {
      "cell_type": "code",
      "metadata": {
        "id": "gMI793b-oVav",
        "colab_type": "code",
        "colab": {}
      },
      "source": [
        "X_train, y_train = scale_data(images=X_train, labels=y_train)\n",
        "X_validation, y_validation = scale_data(images=X_validation, labels=y_validation)\n",
        "X_test, _ = scale_data(images=X_test, labels=y_test)"
      ],
      "execution_count": 0,
      "outputs": []
    },
    {
      "cell_type": "code",
      "metadata": {
        "id": "MC2pAMjNrHF4",
        "colab_type": "code",
        "outputId": "c2eeccf6-07e8-4c18-ed5c-88ca3f803d7a",
        "colab": {
          "base_uri": "https://localhost:8080/",
          "height": 69
        }
      },
      "source": [
        "print(\"Train\\t\\t\", X_train.shape, y_train.shape)\n",
        "print(\"Validation\\t\", X_validation.shape, y_validation.shape)\n",
        "print(\"Test\\t\\t\", X_test.shape, y_test.shape)"
      ],
      "execution_count": 0,
      "outputs": [
        {
          "output_type": "stream",
          "text": [
            "Train\t\t (60000, 1, 28, 28) (60000, 100)\n",
            "Validation\t (2000, 1, 28, 28) (2000, 100)\n",
            "Test\t\t (8000, 1, 28, 28) (8000,)\n"
          ],
          "name": "stdout"
        }
      ]
    },
    {
      "cell_type": "code",
      "metadata": {
        "id": "fzo_2m2FoCpA",
        "colab_type": "code",
        "outputId": "f830a731-dcf2-4695-f3b3-8c1c471741a7",
        "colab": {
          "base_uri": "https://localhost:8080/",
          "height": 676
        }
      },
      "source": [
        "# create model\n",
        "model = Sequential()\n",
        "model.add(Conv2D(32, (5, 5), input_shape=X_train.shape[1:], activation='relu'))      # NOTA !!!! CONVOLUTION\n",
        "model.add(MaxPooling2D(pool_size=(2, 2)))     # LAYER DE MICSORARE (IA PIXELUL CU VALOARE MAXIMA)\n",
        "model.add(Dropout(0.2)) #seteaza valori pe zero random din matrici\n",
        "model.add(Flatten()) # face orice dimensiune intr-un vector\n",
        "model.add(Dense(128, activation='relu')) # NN normal layer\n",
        "model.add(Dense(y_train.shape[-1], activation='softmax')) # NN normal layer\n",
        "# Compile model\n",
        "model.compile(loss='categorical_crossentropy', optimizer='adam', metrics=['accuracy'])\n",
        "\n",
        "model.summary()"
      ],
      "execution_count": 0,
      "outputs": [
        {
          "output_type": "stream",
          "text": [
            "WARNING: Logging before flag parsing goes to stderr.\n",
            "W0825 03:30:16.671690 140181477619584 deprecation_wrapper.py:119] From /usr/local/lib/python3.6/dist-packages/keras/backend/tensorflow_backend.py:74: The name tf.get_default_graph is deprecated. Please use tf.compat.v1.get_default_graph instead.\n",
            "\n",
            "W0825 03:30:16.703701 140181477619584 deprecation_wrapper.py:119] From /usr/local/lib/python3.6/dist-packages/keras/backend/tensorflow_backend.py:517: The name tf.placeholder is deprecated. Please use tf.compat.v1.placeholder instead.\n",
            "\n",
            "W0825 03:30:16.709131 140181477619584 deprecation_wrapper.py:119] From /usr/local/lib/python3.6/dist-packages/keras/backend/tensorflow_backend.py:4138: The name tf.random_uniform is deprecated. Please use tf.random.uniform instead.\n",
            "\n",
            "W0825 03:30:16.720683 140181477619584 deprecation_wrapper.py:119] From /usr/local/lib/python3.6/dist-packages/keras/backend/tensorflow_backend.py:174: The name tf.get_default_session is deprecated. Please use tf.compat.v1.get_default_session instead.\n",
            "\n",
            "W0825 03:30:16.723102 140181477619584 deprecation_wrapper.py:119] From /usr/local/lib/python3.6/dist-packages/keras/backend/tensorflow_backend.py:181: The name tf.ConfigProto is deprecated. Please use tf.compat.v1.ConfigProto instead.\n",
            "\n",
            "W0825 03:30:19.186417 140181477619584 deprecation_wrapper.py:119] From /usr/local/lib/python3.6/dist-packages/keras/backend/tensorflow_backend.py:3976: The name tf.nn.max_pool is deprecated. Please use tf.nn.max_pool2d instead.\n",
            "\n",
            "W0825 03:30:19.196591 140181477619584 deprecation.py:506] From /usr/local/lib/python3.6/dist-packages/keras/backend/tensorflow_backend.py:3445: calling dropout (from tensorflow.python.ops.nn_ops) with keep_prob is deprecated and will be removed in a future version.\n",
            "Instructions for updating:\n",
            "Please use `rate` instead of `keep_prob`. Rate should be set to `rate = 1 - keep_prob`.\n",
            "W0825 03:30:19.235323 140181477619584 deprecation_wrapper.py:119] From /usr/local/lib/python3.6/dist-packages/keras/optimizers.py:790: The name tf.train.Optimizer is deprecated. Please use tf.compat.v1.train.Optimizer instead.\n",
            "\n"
          ],
          "name": "stderr"
        },
        {
          "output_type": "stream",
          "text": [
            "_________________________________________________________________\n",
            "Layer (type)                 Output Shape              Param #   \n",
            "=================================================================\n",
            "conv2d_1 (Conv2D)            (None, 32, 24, 24)        832       \n",
            "_________________________________________________________________\n",
            "max_pooling2d_1 (MaxPooling2 (None, 32, 12, 12)        0         \n",
            "_________________________________________________________________\n",
            "dropout_1 (Dropout)          (None, 32, 12, 12)        0         \n",
            "_________________________________________________________________\n",
            "flatten_1 (Flatten)          (None, 4608)              0         \n",
            "_________________________________________________________________\n",
            "dense_1 (Dense)              (None, 128)               589952    \n",
            "_________________________________________________________________\n",
            "dense_2 (Dense)              (None, 100)               12900     \n",
            "=================================================================\n",
            "Total params: 603,684\n",
            "Trainable params: 603,684\n",
            "Non-trainable params: 0\n",
            "_________________________________________________________________\n"
          ],
          "name": "stdout"
        }
      ]
    },
    {
      "cell_type": "code",
      "metadata": {
        "id": "sCunMSV4qRHu",
        "colab_type": "code",
        "outputId": "76b063c8-2d5c-475e-c516-cd16b9e3b386",
        "colab": {
          "base_uri": "https://localhost:8080/",
          "height": 797
        }
      },
      "source": [
        "history = model.fit(X_train, y_train, validation_data=(X_validation, y_validation), epochs=20, batch_size=200, verbose=1)"
      ],
      "execution_count": 0,
      "outputs": [
        {
          "output_type": "stream",
          "text": [
            "W0825 03:30:19.347437 140181477619584 deprecation.py:323] From /usr/local/lib/python3.6/dist-packages/tensorflow/python/ops/math_grad.py:1250: add_dispatch_support.<locals>.wrapper (from tensorflow.python.ops.array_ops) is deprecated and will be removed in a future version.\n",
            "Instructions for updating:\n",
            "Use tf.where in 2.0, which has the same broadcast rule as np.where\n"
          ],
          "name": "stderr"
        },
        {
          "output_type": "stream",
          "text": [
            "Train on 60000 samples, validate on 2000 samples\n",
            "Epoch 1/20\n",
            "60000/60000 [==============================] - 5s 84us/step - loss: 0.3368 - acc: 0.9086 - val_loss: 0.1044 - val_acc: 0.9725\n",
            "Epoch 2/20\n",
            "60000/60000 [==============================] - 2s 27us/step - loss: 0.0904 - acc: 0.9735 - val_loss: 0.0583 - val_acc: 0.9825\n",
            "Epoch 3/20\n",
            "60000/60000 [==============================] - 2s 27us/step - loss: 0.0647 - acc: 0.9807 - val_loss: 0.0519 - val_acc: 0.9835\n",
            "Epoch 4/20\n",
            "60000/60000 [==============================] - 2s 27us/step - loss: 0.0507 - acc: 0.9843 - val_loss: 0.0531 - val_acc: 0.9850\n",
            "Epoch 5/20\n",
            "60000/60000 [==============================] - 2s 27us/step - loss: 0.0430 - acc: 0.9864 - val_loss: 0.0470 - val_acc: 0.9830\n",
            "Epoch 6/20\n",
            "60000/60000 [==============================] - 2s 28us/step - loss: 0.0361 - acc: 0.9888 - val_loss: 0.0395 - val_acc: 0.9870\n",
            "Epoch 7/20\n",
            "60000/60000 [==============================] - 2s 28us/step - loss: 0.0321 - acc: 0.9898 - val_loss: 0.0441 - val_acc: 0.9870\n",
            "Epoch 8/20\n",
            "60000/60000 [==============================] - 2s 28us/step - loss: 0.0274 - acc: 0.9915 - val_loss: 0.0424 - val_acc: 0.9830\n",
            "Epoch 9/20\n",
            "60000/60000 [==============================] - 2s 28us/step - loss: 0.0247 - acc: 0.9918 - val_loss: 0.0354 - val_acc: 0.9880\n",
            "Epoch 10/20\n",
            "60000/60000 [==============================] - 2s 28us/step - loss: 0.0218 - acc: 0.9931 - val_loss: 0.0328 - val_acc: 0.9900\n",
            "Epoch 11/20\n",
            "60000/60000 [==============================] - 2s 28us/step - loss: 0.0188 - acc: 0.9941 - val_loss: 0.0366 - val_acc: 0.9890\n",
            "Epoch 12/20\n",
            "60000/60000 [==============================] - 2s 28us/step - loss: 0.0169 - acc: 0.9947 - val_loss: 0.0433 - val_acc: 0.9860\n",
            "Epoch 13/20\n",
            "60000/60000 [==============================] - 2s 28us/step - loss: 0.0144 - acc: 0.9956 - val_loss: 0.0388 - val_acc: 0.9880\n",
            "Epoch 14/20\n",
            "60000/60000 [==============================] - 2s 27us/step - loss: 0.0144 - acc: 0.9952 - val_loss: 0.0474 - val_acc: 0.9845\n",
            "Epoch 15/20\n",
            "60000/60000 [==============================] - 2s 27us/step - loss: 0.0122 - acc: 0.9961 - val_loss: 0.0414 - val_acc: 0.9875\n",
            "Epoch 16/20\n",
            "60000/60000 [==============================] - 2s 28us/step - loss: 0.0109 - acc: 0.9964 - val_loss: 0.0388 - val_acc: 0.9890\n",
            "Epoch 17/20\n",
            "60000/60000 [==============================] - 2s 27us/step - loss: 0.0097 - acc: 0.9970 - val_loss: 0.0402 - val_acc: 0.9875\n",
            "Epoch 18/20\n",
            "60000/60000 [==============================] - 2s 27us/step - loss: 0.0081 - acc: 0.9973 - val_loss: 0.0466 - val_acc: 0.9885\n",
            "Epoch 19/20\n",
            "60000/60000 [==============================] - 2s 27us/step - loss: 0.0087 - acc: 0.9971 - val_loss: 0.0401 - val_acc: 0.9870\n",
            "Epoch 20/20\n",
            "60000/60000 [==============================] - 2s 27us/step - loss: 0.0065 - acc: 0.9981 - val_loss: 0.0389 - val_acc: 0.9890\n"
          ],
          "name": "stdout"
        }
      ]
    },
    {
      "cell_type": "code",
      "metadata": {
        "id": "RJZx-FfIwzBw",
        "colab_type": "code",
        "outputId": "adcfa71d-3bb2-40e2-abbd-be6f24702a78",
        "colab": {
          "base_uri": "https://localhost:8080/",
          "height": 574
        }
      },
      "source": [
        "# summarize history for accuracy\n",
        "plt.plot(history.history['acc'])\n",
        "plt.plot(history.history['val_acc'])\n",
        "plt.grid()\n",
        "plt.title('model accuracy')\n",
        "plt.ylabel('accuracy')\n",
        "plt.xlabel('epoch')\n",
        "plt.legend(['train', 'validation'], loc='upper left')\n",
        "plt.show()\n",
        "# summarize history for loss\n",
        "plt.plot(history.history['loss'])\n",
        "plt.plot(history.history['val_loss'])\n",
        "plt.grid()\n",
        "plt.title('model loss')\n",
        "plt.ylabel('loss')\n",
        "plt.xlabel('epoch')\n",
        "plt.legend(['train', 'validation'], loc='upper left')\n",
        "plt.show()"
      ],
      "execution_count": 0,
      "outputs": [
        {
          "output_type": "display_data",
          "data": {
            "image/png": "[encoded data removed]",
            "text/plain": [
              "<Figure size 432x288 with 1 Axes>"
            ]
          },
          "metadata": {
            "tags": []
          }
        },
        {
          "output_type": "display_data",
          "data": {
            "image/png": "[encoded data removed]",
            "text/plain": [
              "<Figure size 432x288 with 1 Axes>"
            ]
          },
          "metadata": {
            "tags": []
          }
        }
      ]
    },
    {
      "cell_type": "code",
      "metadata": {
        "id": "JE5mC9eRqRKT",
        "colab_type": "code",
        "outputId": "971ad07e-35ab-4fd3-ad08-2addb8ac2e3a",
        "colab": {
          "base_uri": "https://localhost:8080/",
          "height": 35
        }
      },
      "source": [
        "y_predicted = model.predict_classes(X_test)\n",
        "y_predicted = np.array([number%10 for number in y_predicted])\n",
        "accuracy = accuracy_score(y_test, y_predicted)\n",
        "\n",
        "print(\"Accuracy \",accuracy)"
      ],
      "execution_count": 0,
      "outputs": [
        {
          "output_type": "stream",
          "text": [
            "Accuracy  0.991375\n"
          ],
          "name": "stdout"
        }
      ]
    }
  ]
}